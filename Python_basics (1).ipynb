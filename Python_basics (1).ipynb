{
  "nbformat": 4,
  "nbformat_minor": 0,
  "metadata": {
    "colab": {
      "provenance": []
    },
    "kernelspec": {
      "name": "python3",
      "display_name": "Python 3"
    },
    "language_info": {
      "name": "python"
    }
  },
  "cells": [
    {
      "cell_type": "code",
      "source": [
        "'''BASIC QUESTIONS '''"
      ],
      "metadata": {
        "id": "EBdrWjiKlFYZ"
      },
      "execution_count": null,
      "outputs": []
    },
    {
      "cell_type": "code",
      "execution_count": null,
      "metadata": {
        "id": "Gd-gKNmgOYC_"
      },
      "outputs": [],
      "source": [
        "'''1.What is Python, and why is it popular?\n",
        "    -Python is a programming language that is easy to understand and write, making it a popular choice among developers and programmers.\n",
        "     1.Ease of Learning\n",
        "     2.Versatility\n",
        "     3.Flexibility\n",
        "     4.Very large Libraries and Frameworks\n",
        "     5.Simplicity\n",
        "'''"
      ]
    },
    {
      "cell_type": "code",
      "source": [
        "''' 2.What is an interpreter in Python?\n",
        "    -A program that reads and executes Python code line by line.\n",
        "'''"
      ],
      "metadata": {
        "id": "S9gQK64uUvXI"
      },
      "execution_count": null,
      "outputs": []
    },
    {
      "cell_type": "code",
      "source": [
        "'''3.What are pre-defined keywords in Python?\n",
        "    -They are predefined words that hold a special meaning and have a specific purpose.\n",
        "    Here is a list of the Python keywords.  Enter any keyword to get more help.\n",
        "\n",
        "False               class               from                or\n",
        "None                continue            global              pass\n",
        "True                def                 if                  raise\n",
        "and                 del                 import              return\n",
        "as                  elif                in                  try\n",
        "assert              else                is                  while\n",
        "async               except              lambda              with\n",
        "await               finally             nonlocal            yield\n",
        "break               for                 not\n",
        "'''"
      ],
      "metadata": {
        "id": "KrphGE33U9Gm"
      },
      "execution_count": null,
      "outputs": []
    },
    {
      "cell_type": "code",
      "source": [
        "'''4.Can keywords be used as variable names?\n",
        "    -Keywords cannot be used as variable names.\n",
        "'''"
      ],
      "metadata": {
        "id": "dPktFc-cWXh-"
      },
      "execution_count": null,
      "outputs": []
    },
    {
      "cell_type": "code",
      "source": [
        "'''5.What is mutability in Python?\n",
        "    -Mutable objects, such as lists and dictionaries, can be modified after creation.\n",
        "'''"
      ],
      "metadata": {
        "id": "zlSdfZd3WoRs"
      },
      "execution_count": null,
      "outputs": []
    },
    {
      "cell_type": "code",
      "source": [
        "'''6.Why are lists mutable, but tuples are immutable?\n",
        "    -Lists: It supports item assignment and we can change during the program's execution. Hence they are mutable.\n",
        "     Tuples: It does not support item assignment and guarantee that a collection of data remains constant.Hence they are immutable.\n",
        "'''"
      ],
      "metadata": {
        "id": "lZYlo70uXW09"
      },
      "execution_count": null,
      "outputs": []
    },
    {
      "cell_type": "code",
      "source": [
        "'''7.What is the difference between “==” and “is” operators in Python?\n",
        "    -The == operator checks for equality of values which means it evaluates whether the values of two objects are the same. On the other hand, is operator checks for identity, meaning it determines whether two variables point to the same object in memory.\n",
        "'''"
      ],
      "metadata": {
        "id": "T0xyWZIMX4u0"
      },
      "execution_count": null,
      "outputs": []
    },
    {
      "cell_type": "code",
      "source": [
        "'''8.What are logical operators in Python?\n",
        "    -Logical operators combine two or more operands and conduct logical comparisons on them.logical operators (and, or, not).\n",
        "'''"
      ],
      "metadata": {
        "id": "1jo5691dYth7"
      },
      "execution_count": null,
      "outputs": []
    },
    {
      "cell_type": "code",
      "source": [
        "'''9.What is type casting in Python?\n",
        "    Type casting, also known as type conversion, is the process of changing one data type to another in Python.\n",
        "'''"
      ],
      "metadata": {
        "id": "HBOvOXWXaO6p"
      },
      "execution_count": null,
      "outputs": []
    },
    {
      "cell_type": "code",
      "source": [
        "'''10.What is the difference between implicit and explicit type casting?\n",
        "    -Implicit : Python doesn not need to define a variable as string,float or integer implicitly.Implicit type casting is automatic.\n",
        "     Explicit : Explicit type casting is done by the programmer to convert datatype using builtin functions (str,int ,float,bool).\n",
        "\n",
        "'''"
      ],
      "metadata": {
        "id": "cTfF68Dsap0Z"
      },
      "execution_count": null,
      "outputs": []
    },
    {
      "cell_type": "code",
      "source": [
        "'''11.What is the purpose of conditional statements in Python?\n",
        "    -Conditionals in Python are used to execute code based on the evaluation of one or more conditions.It helps to code decissions based on some preconditions.\n",
        "'''"
      ],
      "metadata": {
        "id": "xrHKqHZIbkBp"
      },
      "execution_count": null,
      "outputs": []
    },
    {
      "cell_type": "code",
      "source": [
        "'''12.How does the elif statement work?\n",
        "    -Elif statementallows you to check for multiple conditions sequentially within a conditional block, executing the code block associated with the first true condition encountered.\n",
        "'''"
      ],
      "metadata": {
        "id": "-GeUhlr6cLYb"
      },
      "execution_count": null,
      "outputs": []
    },
    {
      "cell_type": "code",
      "source": [
        "'''13.What is the difference between for and while loops?\n",
        "    -While loop: Repeatedly executes a block of code untill a condition is met.The while loop is used when you don't know in advance how many times you want to execute the block of code.\n",
        "     For loop: Iterate over a sequence of elements.The for loop is used when you know in advance how many times you want to execute the block of code.\n",
        "'''"
      ],
      "metadata": {
        "id": "NsOIkpyHfTg9"
      },
      "execution_count": null,
      "outputs": []
    },
    {
      "cell_type": "code",
      "source": [
        "'''14.Describe a scenario where a while loop is more suitable than a for loop.\n",
        "    -A while loop is great for repeatedly asking for input until a valid value is given.Imagine a program that repeatedly asks the user to enter a valid password until they provide the correct one.In this case, a while loop is more appropriate because we don’t know how many times the user will enter an incorrect password.\n",
        "'''"
      ],
      "metadata": {
        "id": "X5Og3XnqgOPM"
      },
      "execution_count": null,
      "outputs": []
    },
    {
      "cell_type": "code",
      "source": [
        "'''PRACTICAL QUESTIONS '''"
      ],
      "metadata": {
        "id": "XiDOVHNNk_Ov"
      },
      "execution_count": null,
      "outputs": []
    },
    {
      "cell_type": "code",
      "source": [
        "#1.Write a Python program to print \"Hello, World!\"\n",
        "print(\"Hello, World!\")"
      ],
      "metadata": {
        "colab": {
          "base_uri": "https://localhost:8080/"
        },
        "id": "PqrFVo1Jh4ca",
        "outputId": "40978ab6-65ea-4c21-ab7c-4033e17f37e4"
      },
      "execution_count": null,
      "outputs": [
        {
          "output_type": "stream",
          "name": "stdout",
          "text": [
            "Hello, World!\n"
          ]
        }
      ]
    },
    {
      "cell_type": "code",
      "source": [
        "#2.Write a Python program that displays your name and age.\n",
        "print(\"Prayag\")\n",
        "print(\"21 years\")"
      ],
      "metadata": {
        "colab": {
          "base_uri": "https://localhost:8080/"
        },
        "id": "Du79_iSXiTQi",
        "outputId": "94f01d88-c561-4dd5-b8f2-1744e65fbe99"
      },
      "execution_count": null,
      "outputs": [
        {
          "output_type": "stream",
          "name": "stdout",
          "text": [
            "Prayag\n",
            "21 years\n"
          ]
        }
      ]
    },
    {
      "cell_type": "code",
      "source": [
        "#3.Write code to print all the pre-defined keywords in Python using the keyword library.\n",
        "help('keywords')"
      ],
      "metadata": {
        "colab": {
          "base_uri": "https://localhost:8080/"
        },
        "id": "4RMKfndIjy_S",
        "outputId": "94d95ae9-13ec-4517-9729-5b5bbbd1a5fe"
      },
      "execution_count": null,
      "outputs": [
        {
          "output_type": "stream",
          "name": "stdout",
          "text": [
            "\n",
            "Here is a list of the Python keywords.  Enter any keyword to get more help.\n",
            "\n",
            "False               class               from                or\n",
            "None                continue            global              pass\n",
            "True                def                 if                  raise\n",
            "and                 del                 import              return\n",
            "as                  elif                in                  try\n",
            "assert              else                is                  while\n",
            "async               except              lambda              with\n",
            "await               finally             nonlocal            yield\n",
            "break               for                 not                 \n",
            "\n"
          ]
        }
      ]
    },
    {
      "cell_type": "code",
      "source": [
        "#4.Write a program that checks if a given word is a Python keyword.\n",
        "import keyword\n",
        "word = input(\"Enter a word: \")\n",
        "if keyword.iskeyword(word):\n",
        "    print(\"Yes, it's a Python keyword.\")\n",
        "else:\n",
        "    print(\"No, it's not a Python keyword.\")"
      ],
      "metadata": {
        "colab": {
          "base_uri": "https://localhost:8080/"
        },
        "id": "EwAy6erlj8vx",
        "outputId": "84136015-e8ed-463b-adfb-85ced368b345"
      },
      "execution_count": null,
      "outputs": [
        {
          "output_type": "stream",
          "name": "stdout",
          "text": [
            "Enter a word: prayags\n",
            "No, it's not a Python keyword.\n"
          ]
        }
      ]
    },
    {
      "cell_type": "code",
      "source": [
        "#5.Create a list and tuple in Python, and demonstrate how attempting to change an element works differently for each.\n",
        "my_list = [1, 2, 3, 4, 5]\n",
        "print(\"Original list:\", my_list)\n",
        "my_list[2] = 99\n",
        "print(\"Modified list:\", my_list)"
      ],
      "metadata": {
        "id": "yClCjfxsk0eX",
        "colab": {
          "base_uri": "https://localhost:8080/"
        },
        "outputId": "c5f14234-fb09-4413-eb7c-b74d68195882"
      },
      "execution_count": null,
      "outputs": [
        {
          "output_type": "stream",
          "name": "stdout",
          "text": [
            "Original list: [1, 2, 3, 4, 5]\n",
            "Modified list: [1, 2, 99, 4, 5]\n"
          ]
        }
      ]
    },
    {
      "cell_type": "code",
      "source": [
        "#5.Create a list and tuple in Python, and demonstrate how attempting to change an element works differently for each.\n",
        "my_tuple = (1, 2, 3, 4, 5)\n",
        "print(\"Original tuple:\", my_tuple)\n",
        "my_tuple[2] = 99\n",
        "print(\"Modified tuple:\", my_tuple)"
      ],
      "metadata": {
        "colab": {
          "base_uri": "https://localhost:8080/",
          "height": 211
        },
        "id": "30-AUNbavY2Z",
        "outputId": "c1007cf5-8303-4402-a1d3-eb2cf0b40e0a"
      },
      "execution_count": null,
      "outputs": [
        {
          "output_type": "stream",
          "name": "stdout",
          "text": [
            "Original tuple: (1, 2, 3, 4, 5)\n"
          ]
        },
        {
          "output_type": "error",
          "ename": "TypeError",
          "evalue": "'tuple' object does not support item assignment",
          "traceback": [
            "\u001b[0;31m---------------------------------------------------------------------------\u001b[0m",
            "\u001b[0;31mTypeError\u001b[0m                                 Traceback (most recent call last)",
            "\u001b[0;32m<ipython-input-3-dd6249882ff0>\u001b[0m in \u001b[0;36m<cell line: 0>\u001b[0;34m()\u001b[0m\n\u001b[1;32m      2\u001b[0m \u001b[0mmy_tuple\u001b[0m \u001b[0;34m=\u001b[0m \u001b[0;34m(\u001b[0m\u001b[0;36m1\u001b[0m\u001b[0;34m,\u001b[0m \u001b[0;36m2\u001b[0m\u001b[0;34m,\u001b[0m \u001b[0;36m3\u001b[0m\u001b[0;34m,\u001b[0m \u001b[0;36m4\u001b[0m\u001b[0;34m,\u001b[0m \u001b[0;36m5\u001b[0m\u001b[0;34m)\u001b[0m\u001b[0;34m\u001b[0m\u001b[0;34m\u001b[0m\u001b[0m\n\u001b[1;32m      3\u001b[0m \u001b[0mprint\u001b[0m\u001b[0;34m(\u001b[0m\u001b[0;34m\"Original tuple:\"\u001b[0m\u001b[0;34m,\u001b[0m \u001b[0mmy_tuple\u001b[0m\u001b[0;34m)\u001b[0m\u001b[0;34m\u001b[0m\u001b[0;34m\u001b[0m\u001b[0m\n\u001b[0;32m----> 4\u001b[0;31m \u001b[0mmy_tuple\u001b[0m\u001b[0;34m[\u001b[0m\u001b[0;36m2\u001b[0m\u001b[0;34m]\u001b[0m \u001b[0;34m=\u001b[0m \u001b[0;36m99\u001b[0m\u001b[0;34m\u001b[0m\u001b[0;34m\u001b[0m\u001b[0m\n\u001b[0m\u001b[1;32m      5\u001b[0m \u001b[0mprint\u001b[0m\u001b[0;34m(\u001b[0m\u001b[0;34m\"Modified tuple:\"\u001b[0m\u001b[0;34m,\u001b[0m \u001b[0mmy_tuple\u001b[0m\u001b[0;34m)\u001b[0m\u001b[0;34m\u001b[0m\u001b[0;34m\u001b[0m\u001b[0m\n",
            "\u001b[0;31mTypeError\u001b[0m: 'tuple' object does not support item assignment"
          ]
        }
      ]
    },
    {
      "cell_type": "code",
      "source": [
        "#6 & 7.Write a function to demonstrate the behavior of mutable and immutable arguments.\n",
        "def modify_args(immutable_arg, mutable_arg):\n",
        "    immutable_arg += 1\n",
        "    mutable_arg.append(4)\n",
        "num = 10\n",
        "lst = [1, 2, 3]\n",
        "modify_args(num, lst)\n",
        "print(\"Immutable argument after function call:\", num) #Cannot be modified\n",
        "print(\"Mutable argument after function call:\", lst) # Can be modified"
      ],
      "metadata": {
        "id": "omvNNqDp3ZtH",
        "colab": {
          "base_uri": "https://localhost:8080/"
        },
        "outputId": "c5555e73-96ad-49ec-b38e-90fac3f8b937"
      },
      "execution_count": 1,
      "outputs": [
        {
          "output_type": "stream",
          "name": "stdout",
          "text": [
            "Immutable argument after function call: 10\n",
            "Mutable argument after function call: [1, 2, 3, 4]\n"
          ]
        }
      ]
    },
    {
      "cell_type": "code",
      "source": [
        "#8.Write a program to demonstrate the use of logical operators.\n",
        "a = int(input(\"Enter first number: \"))\n",
        "b = int(input(\"Enter second number: \"))\n",
        "if a > 0 and b > 0:\n",
        "    print(\"Both numbers are positive\")\n",
        "if a > 0 or b > 0:\n",
        "    print(\"At least one number is positive\")\n",
        "if not (a < 0 and b < 0):\n",
        "    print(\"Both numbers are not negative\")"
      ],
      "metadata": {
        "colab": {
          "base_uri": "https://localhost:8080/"
        },
        "id": "adCJVi91vh9_",
        "outputId": "b1339f85-8d39-4511-cb17-a15119d73efb"
      },
      "execution_count": null,
      "outputs": [
        {
          "output_type": "stream",
          "name": "stdout",
          "text": [
            "Enter first number: 5\n",
            "Enter second number: 4\n",
            "Both numbers are positive\n",
            "At least one number is positive\n",
            "Both numbers are not negative\n"
          ]
        }
      ]
    },
    {
      "cell_type": "code",
      "source": [
        "#9.Write a Python program to convert user input from string to integer, float, and boolean types.\n",
        "user_input = input(\"Enter a value: \")\n",
        "int_value = int(user_input)\n",
        "print(\"Integer:\", int_value)\n",
        "float_value = float(user_input)\n",
        "print(\"Float:\", float_value)\n",
        "bool_value = bool(user_input)\n",
        "print(\"Boolean:\", bool_value)"
      ],
      "metadata": {
        "colab": {
          "base_uri": "https://localhost:8080/"
        },
        "id": "giHUUgYlwrDl",
        "outputId": "0a6480f6-d8ca-447f-d8d8-38b93854f77c"
      },
      "execution_count": null,
      "outputs": [
        {
          "output_type": "stream",
          "name": "stdout",
          "text": [
            "Enter a value: 78\n",
            "Integer: 78\n",
            "Float: 78.0\n",
            "Boolean: True\n"
          ]
        }
      ]
    },
    {
      "cell_type": "code",
      "source": [
        "#10.Write code to demonstrate type casting with list elements.\n",
        "data = [\"10\", \"20\", \"30\", \"40.5\", \"50.7\"]\n",
        "int_list = [int(float(i)) for i in data]\n",
        "print(\"Integer List:\", int_list)\n",
        "float_list = [float(i) for i in data]\n",
        "print(\"Float List:\", float_list)\n",
        "str_list = [str(i) for i in int_list]\n",
        "print(\"String List:\", str_list)"
      ],
      "metadata": {
        "id": "Ne5L3zYJy45R",
        "colab": {
          "base_uri": "https://localhost:8080/"
        },
        "outputId": "0c4df1fc-a9be-4b91-b2d1-8fd9a2e50e34"
      },
      "execution_count": 2,
      "outputs": [
        {
          "output_type": "stream",
          "name": "stdout",
          "text": [
            "Integer List: [10, 20, 30, 40, 50]\n",
            "Float List: [10.0, 20.0, 30.0, 40.5, 50.7]\n",
            "String List: ['10', '20', '30', '40', '50']\n"
          ]
        }
      ]
    },
    {
      "cell_type": "code",
      "source": [
        "#11.Write a program that checks if a number is positive, negative, or zero\n",
        "num = float(input(\"Enter a number: \"))\n",
        "if num > 0:\n",
        "    print(\"The number is positive.\")\n",
        "elif num < 0:\n",
        "    print(\"The number is negative.\")\n",
        "else:\n",
        "    print(\"The number is zero.\")"
      ],
      "metadata": {
        "colab": {
          "base_uri": "https://localhost:8080/"
        },
        "id": "6qDSRFrmy7-S",
        "outputId": "286ed8f9-c231-47b8-b8ac-359a89011097"
      },
      "execution_count": null,
      "outputs": [
        {
          "output_type": "stream",
          "name": "stdout",
          "text": [
            "Enter a number: 98\n",
            "The number is positive.\n"
          ]
        }
      ]
    },
    {
      "cell_type": "code",
      "source": [
        "#12.Write a for loop to print numbers from 1 to 100\n",
        "for i in range(1,11):\n",
        "    print(i)"
      ],
      "metadata": {
        "colab": {
          "base_uri": "https://localhost:8080/"
        },
        "id": "Qb8NJ17X0o0Z",
        "outputId": "73014654-f2ba-416c-adcf-75e99041275b"
      },
      "execution_count": null,
      "outputs": [
        {
          "output_type": "stream",
          "name": "stdout",
          "text": [
            "1\n",
            "2\n",
            "3\n",
            "4\n",
            "5\n",
            "6\n",
            "7\n",
            "8\n",
            "9\n",
            "10\n"
          ]
        }
      ]
    },
    {
      "cell_type": "code",
      "source": [
        "#13.Write a Python program to find the sum of all even numbers between 1 and 50.\n",
        "sum = 0\n",
        "for i in range(2, 51, 2):\n",
        "    sum += i\n",
        "print(\"Sum of even numbers from 1 to 50:\", sum)"
      ],
      "metadata": {
        "colab": {
          "base_uri": "https://localhost:8080/"
        },
        "id": "EgpVGyw51BoF",
        "outputId": "8ceecc6f-f5c2-47a7-8ed1-f3d7e624685e"
      },
      "execution_count": null,
      "outputs": [
        {
          "output_type": "stream",
          "name": "stdout",
          "text": [
            "Sum of even numbers from 1 to 50: 650\n"
          ]
        }
      ]
    },
    {
      "cell_type": "code",
      "source": [
        "#14.Write a program to reverse a string using a while loop.\n",
        "text = \"hello\"\n",
        "reversed_text = \"\"\n",
        "index = len(text) - 1\n",
        "while index >= 0:\n",
        "    reversed_text += text[index]\n",
        "    index -= 1\n",
        "print(\"Reversed String:\", reversed_text)"
      ],
      "metadata": {
        "id": "wmGOM2ff1qkw",
        "colab": {
          "base_uri": "https://localhost:8080/"
        },
        "outputId": "d1e857b6-53de-4857-ebfb-49fa07f3f66b"
      },
      "execution_count": 3,
      "outputs": [
        {
          "output_type": "stream",
          "name": "stdout",
          "text": [
            "Reversed String: olleh\n"
          ]
        }
      ]
    },
    {
      "cell_type": "code",
      "source": [
        "#15.Write a Python program to calculate the factorial of a number provided by the user using a while loop.\n",
        "num = int(input(\"Enter a number: \"))\n",
        "factorial = 1\n",
        "i = num\n",
        "while i > 0:\n",
        "    factorial *= i\n",
        "    i -= 1\n",
        "print(f\"Factorial of {num} is {factorial}\")"
      ],
      "metadata": {
        "id": "c9R5Lnl42e_b",
        "colab": {
          "base_uri": "https://localhost:8080/"
        },
        "outputId": "fcead9c3-184f-468e-e0ab-f6ab6875004d"
      },
      "execution_count": 4,
      "outputs": [
        {
          "output_type": "stream",
          "name": "stdout",
          "text": [
            "Enter a number: 5\n",
            "Factorial of 5 is 120\n"
          ]
        }
      ]
    }
  ]
}